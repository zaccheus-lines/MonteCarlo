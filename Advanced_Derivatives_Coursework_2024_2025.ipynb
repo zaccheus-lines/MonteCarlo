{
 "cells": [
  {
   "cell_type": "markdown",
   "id": "f1d1dad8-f872-4e05-88ca-ae366b1dae2e",
   "metadata": {},
   "source": [
    "# Advanced Derivatives\n",
    "## Grouop Project\n",
    "### Group Members:\n",
    "- Edoardo Nicoletti 87537\n",
    "- Alfonso Salcines Gomez Pardo\n",
    "- Riccardo Mauli\n",
    "- Zacch Lines"
   ]
  },
  {
   "cell_type": "code",
   "execution_count": 1,
   "id": "96605826-330f-4541-aa62-681ee1cc445e",
   "metadata": {
    "tags": []
   },
   "outputs": [
    {
     "name": "stdout",
     "output_type": "stream",
     "text": [
      "####################################################################\n",
      "#  FINANCEPY BETA Version 0.370 - This build: 28 Oct 2024 at 20:26 #\n",
      "#     This software is distributed FREE AND WITHOUT ANY WARRANTY   #\n",
      "#  Report bugs as issues at https://github.com/domokane/FinancePy  #\n",
      "####################################################################\n",
      "\n"
     ]
    }
   ],
   "source": [
    "import numpy as np\n",
    "import pandas as pd\n",
    "from financepy.utils import OptionTypes\n",
    "from scipy.stats import norm\n",
    "import financepy as fp\n",
    "import matplotlib.pyplot as plt\n",
    "from financepy.utils import *\n",
    "from financepy.products.equity import *\n"
   ]
  },
  {
   "cell_type": "markdown",
   "id": "379a5bc9-ced9-48b9-b8fa-0371d2ce1fb2",
   "metadata": {},
   "source": [
    "### 1. This question is about Black-Scholes-Merton Hedging."
   ]
  },
  {
   "cell_type": "markdown",
   "id": "6ed758ef-4965-4f98-a7e2-c6623c6e6923",
   "metadata": {},
   "source": [
    "\n",
    "$$\n",
    "V_0 = \\text{bs\\_value}(S_0, T, K, r, q, \\sigma, \\text{OptionTypes.EUROPEAN\\_CALL.value})\n",
    "$$\n",
    "\n",
    "$$\n",
    "\\Delta_0 = \\text{bs\\_delta}(S_0, T, K, r, q, \\sigma, \\text{OptionTypes.EUROPEAN\\_CALL.value})\n",
    "$$\n"
   ]
  },
  {
   "cell_type": "markdown",
   "id": "6a38a432-fccb-4531-b09d-81aa72a1a6a7",
   "metadata": {},
   "source": [
    "### Parameters:\n",
    "-  K : Strike price of the option.\n",
    "- S : Initial stock price.\n",
    "- r : Risk-free interest rate.\n",
    "- mu : Drift of the stock price.\n",
    "- sigma : Volatility of the stock price.\n",
    "- T : Time to expiry in years.\n",
    "- N : Hedging frequency per year.\n",
    "- num_paths : Number of simulation paths."
   ]
  },
  {
   "cell_type": "markdown",
   "id": "e9c3fb6d-b377-47af-ae3f-4d0c17fdf86c",
   "metadata": {},
   "source": [
    "### (a)"
   ]
  },
  {
   "cell_type": "code",
   "execution_count": 8,
   "id": "7e409eae-58d3-459d-97b7-eb526427bb28",
   "metadata": {
    "tags": []
   },
   "outputs": [],
   "source": [
    "## The following code was taken from notebook 2_A from Okane\n",
    "stock_price = 100\n",
    "strike_price = 100\n",
    "interest_rate = 0.05\n",
    "dividend_yield = 0.0\n",
    "volatility = 0.2\n",
    "T = 1.0\n"
   ]
  },
  {
   "cell_type": "code",
   "execution_count": 9,
   "id": "291b93ca-5a33-44ae-a865-469bed68e5fd",
   "metadata": {
    "tags": []
   },
   "outputs": [],
   "source": [
    "valuation_date = Date(1, 1, 2015)"
   ]
  },
  {
   "cell_type": "code",
   "execution_count": 10,
   "id": "356b35f0-ac9f-4d63-b348-f00f908e1224",
   "metadata": {
    "tags": []
   },
   "outputs": [],
   "source": [
    "expiry_date = valuation_date.add_years(T)"
   ]
  },
  {
   "cell_type": "code",
   "execution_count": 11,
   "id": "86ec0248-cb0d-4aff-8fc2-c99d7537a9ef",
   "metadata": {
    "tags": []
   },
   "outputs": [],
   "source": [
    "call_option = EquityVanillaOption(expiry_date, strike_price, OptionTypes.EUROPEAN_CALL)"
   ]
  },
  {
   "cell_type": "code",
   "execution_count": 12,
   "id": "1aa81d61-12b6-485e-91f2-31659969a8a1",
   "metadata": {
    "tags": []
   },
   "outputs": [],
   "source": [
    "put_option = EquityVanillaOption(expiry_date, strike_price, OptionTypes.EUROPEAN_PUT)"
   ]
  },
  {
   "cell_type": "code",
   "execution_count": 13,
   "id": "cae3bd5c-9187-4de0-9964-39ccd1c91cd8",
   "metadata": {
    "tags": []
   },
   "outputs": [],
   "source": [
    "discount_curve = DiscountCurveFlat(valuation_date, interest_rate)"
   ]
  },
  {
   "cell_type": "code",
   "execution_count": 14,
   "id": "bd76ae51-825f-4147-b4dd-69802e6ce1f7",
   "metadata": {
    "tags": []
   },
   "outputs": [],
   "source": [
    "dividend_curve = DiscountCurveFlat(valuation_date, dividend_yield)"
   ]
  },
  {
   "cell_type": "code",
   "execution_count": 16,
   "id": "3e5ab6bf-092a-46e7-897a-55749d3c1b8d",
   "metadata": {
    "tags": []
   },
   "outputs": [],
   "source": [
    "model = BlackScholes(volatility)"
   ]
  },
  {
   "cell_type": "code",
   "execution_count": 17,
   "id": "caf36b9f-22d6-45f4-b3e2-913770d832ad",
   "metadata": {
    "tags": []
   },
   "outputs": [
    {
     "data": {
      "text/plain": [
       "10.450575619322274"
      ]
     },
     "execution_count": 17,
     "metadata": {},
     "output_type": "execute_result"
    }
   ],
   "source": [
    "call_option.value(valuation_date, stock_price, discount_curve, dividend_curve, model)"
   ]
  },
  {
   "cell_type": "code",
   "execution_count": 18,
   "id": "9b91501e-6456-44b9-aba8-def94e7189da",
   "metadata": {
    "tags": []
   },
   "outputs": [
    {
     "data": {
      "text/plain": [
       "5.57351806939368"
      ]
     },
     "execution_count": 18,
     "metadata": {},
     "output_type": "execute_result"
    }
   ],
   "source": [
    "put_option.value(valuation_date, stock_price, discount_curve, dividend_curve, model)"
   ]
  },
  {
   "cell_type": "code",
   "execution_count": 19,
   "id": "7a6d82bd-b585-497b-97b6-3c3b3ab490bc",
   "metadata": {
    "tags": []
   },
   "outputs": [
    {
     "data": {
      "text/plain": [
       "0.6368305904551367"
      ]
     },
     "execution_count": 19,
     "metadata": {},
     "output_type": "execute_result"
    }
   ],
   "source": [
    "call_option.delta(valuation_date, stock_price, discount_curve, dividend_curve, model)"
   ]
  },
  {
   "cell_type": "code",
   "execution_count": null,
   "id": "eee0438b-a454-4a00-848c-7349ade29192",
   "metadata": {},
   "outputs": [],
   "source": [
    "## End of the code from Okane"
   ]
  },
  {
   "cell_type": "code",
   "execution_count": 20,
   "id": "048906ef-7a13-4a10-ae5c-499cd56a3226",
   "metadata": {
    "tags": []
   },
   "outputs": [],
   "source": [
    "## Parameters\n",
    "S = 100\n",
    "K = 100\n",
    "r = 0.05\n",
    "q = 0.0\n",
    "sigma = 0.2\n",
    "T = 1.0"
   ]
  },
  {
   "cell_type": "code",
   "execution_count": 21,
   "id": "0ebc1977-dcca-49f6-8521-18970cff67d8",
   "metadata": {
    "tags": []
   },
   "outputs": [],
   "source": [
    "def bs_value(S, T, K, r, q, sigma, option_type):\n",
    "    \"\"\"Calculate the Black-Scholes value of a European option.\"\"\"\n",
    "    d1 = (np.log(S / K) + (r - q + 0.5 * sigma ** 2) * T) / (sigma * np.sqrt(T))\n",
    "    d2 = d1 - sigma * np.sqrt(T)\n",
    "    if option_type == \"call\":\n",
    "        return S * np.exp(-q * T) * norm.cdf(d1) - K * np.exp(-r * T) * norm.cdf(d2)\n",
    "    elif option_type == \"put\":\n",
    "        return K * np.exp(-r * T) * norm.cdf(-d2) - S * np.exp(-q * T) * norm.cdf(-d1)"
   ]
  },
  {
   "cell_type": "code",
   "execution_count": 22,
   "id": "e2df7c89-c6c7-4c08-96c0-dd22d069f79b",
   "metadata": {
    "tags": []
   },
   "outputs": [],
   "source": [
    "def bs_delta(S, T, K, r, q, sigma, option_type):\n",
    "    \"\"\"Calculate the Black-Scholes delta of a European option.\"\"\"\n",
    "    d1 = (np.log(S / K) + (r - q + 0.5 * sigma ** 2) * T) / (sigma * np.sqrt(T))\n",
    "    if option_type == \"call\":\n",
    "        return np.exp(-q * T) * norm.cdf(d1)\n",
    "    elif option_type == \"put\":\n",
    "        return -np.exp(-q * T) * norm.cdf(-d1)"
   ]
  },
  {
   "cell_type": "code",
   "execution_count": 23,
   "id": "4d2a7972-1687-49b3-bf97-55eed703742d",
   "metadata": {
    "tags": []
   },
   "outputs": [
    {
     "name": "stdout",
     "output_type": "stream",
     "text": [
      "Call Option Value: 10.450583572185565\n",
      "Call Option Delta: 0.6368306511756191\n"
     ]
    }
   ],
   "source": [
    "call_value = bs_value(S, T, K, r, q, sigma, \"call\")\n",
    "call_delta = bs_delta(S, T, K, r, q, sigma, \"call\")\n",
    "\n",
    "print(f\"Call Option Value: {call_value}\")\n",
    "print(f\"Call Option Delta: {call_delta}\")"
   ]
  },
  {
   "cell_type": "markdown",
   "id": "ba66324f-6229-49e4-ad23-3b7c99d29642",
   "metadata": {
    "tags": []
   },
   "source": [
    "### (b)"
   ]
  },
  {
   "cell_type": "code",
   "execution_count": 25,
   "id": "6f3f377b-1fab-4a0c-b9cc-2c04a65ee2d9",
   "metadata": {
    "tags": []
   },
   "outputs": [],
   "source": [
    "N = 252      \n",
    "num_paths = 1000\n",
    "mu = 0.05"
   ]
  },
  {
   "cell_type": "code",
   "execution_count": 47,
   "id": "adc7f108-e6f1-4cd4-b309-1ab3690c65d8",
   "metadata": {
    "tags": []
   },
   "outputs": [],
   "source": [
    "def OptionSim(K, S0, r, mu, sigma, T, N):\n",
    "    \"\"\"\n",
    "    Simulates delta hedging of a European call option.\n",
    "    \"\"\"\n",
    "    dt = 1 / N\n",
    "    timesteps = int(T * N)\n",
    "\n",
    "    # Simulate stock price path\n",
    "    Z = np.random.normal(0, 1, timesteps)\n",
    "    S = np.zeros(timesteps + 1)\n",
    "    S[0] = S0\n",
    "    for t in range(1, timesteps + 1):\n",
    "        S[t] = S[t - 1] * np.exp((mu - 0.5 * sigma ** 2) * dt + sigma * np.sqrt(dt) * Z[t - 1])\n",
    "\n",
    "    # Initialize portfolio variables\n",
    "    cash_balance = 0.0\n",
    "    shares_held = 0.0\n",
    "\n",
    "    # Hedging process\n",
    "    for t in range(timesteps):\n",
    "        T_remaining = T - t * dt\n",
    "        delta = bs_delta(S[t], T_remaining, K, r, 0, sigma, \"call\")\n",
    "        \n",
    "        # Update shares held and cash balance\n",
    "        shares_to_buy = delta - shares_held\n",
    "        cash_balance -= shares_to_buy * S[t]\n",
    "        shares_held = delta\n",
    "\n",
    "        # Update cash balance with risk-free growth\n",
    "        cash_balance *= np.exp(r * dt)\n",
    "\n",
    "    # Final values\n",
    "    terminal_stock_price = S[-1]\n",
    "    portfolio_value = shares_held * S[-1] + cash_balance\n",
    "    option_payoff = max(S[-1] - K, 0)\n",
    "    replicating_error = portfolio_value - option_payoff\n",
    "    \n",
    "    results = pd.DataFrame({\n",
    "        \"Terminal Stock Price (S(T))\": [terminal_stock_price],\n",
    "        \"Option Payoff\": [option_payoff],\n",
    "        \"Shares Held\": [shares_held],\n",
    "        \"Cash Balance\": [cash_balance],\n",
    "        \"Portfolio Value\": [portfolio_value],\n",
    "        \"Replicating Error\": [replicating_error]\n",
    "    })\n",
    "\n",
    "    return results"
   ]
  },
  {
   "cell_type": "code",
   "execution_count": 48,
   "id": "b396df15-e0ef-414a-ac29-f145f89a391f",
   "metadata": {
    "tags": []
   },
   "outputs": [
    {
     "data": {
      "text/html": [
       "<div>\n",
       "<style scoped>\n",
       "    .dataframe tbody tr th:only-of-type {\n",
       "        vertical-align: middle;\n",
       "    }\n",
       "\n",
       "    .dataframe tbody tr th {\n",
       "        vertical-align: top;\n",
       "    }\n",
       "\n",
       "    .dataframe thead th {\n",
       "        text-align: right;\n",
       "    }\n",
       "</style>\n",
       "<table border=\"1\" class=\"dataframe\">\n",
       "  <thead>\n",
       "    <tr style=\"text-align: right;\">\n",
       "      <th></th>\n",
       "      <th>Terminal Stock Price (S(T))</th>\n",
       "      <th>Option Payoff</th>\n",
       "      <th>Shares Held</th>\n",
       "      <th>Cash Balance</th>\n",
       "      <th>Portfolio Value</th>\n",
       "      <th>Replicating Error</th>\n",
       "    </tr>\n",
       "  </thead>\n",
       "  <tbody>\n",
       "    <tr>\n",
       "      <th>0</th>\n",
       "      <td>139.665207</td>\n",
       "      <td>39.665207</td>\n",
       "      <td>1.0</td>\n",
       "      <td>0.0</td>\n",
       "      <td>139.665207</td>\n",
       "      <td>100.0</td>\n",
       "    </tr>\n",
       "  </tbody>\n",
       "</table>\n",
       "</div>"
      ],
      "text/plain": [
       "   Terminal Stock Price (S(T))  Option Payoff  Shares Held  Cash Balance  \\\n",
       "0                   139.665207      39.665207          1.0           0.0   \n",
       "\n",
       "   Portfolio Value  Replicating Error  \n",
       "0       139.665207              100.0  "
      ]
     },
     "execution_count": 48,
     "metadata": {},
     "output_type": "execute_result"
    }
   ],
   "source": [
    "OptionSim(100,100,0.05,0.05,0.2,1,252)"
   ]
  },
  {
   "cell_type": "markdown",
   "id": "3abe9a5f-f0c1-442c-8ca4-378126c248e3",
   "metadata": {},
   "source": [
    "### (c)"
   ]
  },
  {
   "cell_type": "code",
   "execution_count": 38,
   "id": "d39882a7-a58d-4117-803b-31554a98918a",
   "metadata": {
    "tags": []
   },
   "outputs": [],
   "source": [
    "def RunOptionSimLoop(K, S0, r, mu, sigma, T, N, num_paths):\n",
    "    \"\"\"\n",
    "    Runs the OptionSim function in a for loop and collects the results.\n",
    "    \"\"\"\n",
    "    results = []  # List to collect results\n",
    "\n",
    "    for i in range(num_paths):\n",
    "        result = OptionSim(K, S0, r, mu, sigma, T, N)  # Run OptionSim\n",
    "        results.append(result)  # Append the DataFrame result\n",
    "\n",
    "    # Concatenate all results into a single DataFrame\n",
    "    final_results = pd.concat(results, ignore_index=True)\n",
    "\n",
    "    return final_results"
   ]
  },
  {
   "cell_type": "code",
   "execution_count": 39,
   "id": "b8c5479d-d744-4fa7-9ada-1b877b73871d",
   "metadata": {
    "tags": []
   },
   "outputs": [],
   "source": [
    "df_results=RunOptionSimLoop(K, 100, r, mu, sigma, T, N, num_paths)"
   ]
  },
  {
   "cell_type": "code",
   "execution_count": 40,
   "id": "36807209-ea11-4338-b466-b97b31ae7fca",
   "metadata": {
    "tags": []
   },
   "outputs": [
    {
     "data": {
      "text/html": [
       "<div>\n",
       "<style scoped>\n",
       "    .dataframe tbody tr th:only-of-type {\n",
       "        vertical-align: middle;\n",
       "    }\n",
       "\n",
       "    .dataframe tbody tr th {\n",
       "        vertical-align: top;\n",
       "    }\n",
       "\n",
       "    .dataframe thead th {\n",
       "        text-align: right;\n",
       "    }\n",
       "</style>\n",
       "<table border=\"1\" class=\"dataframe\">\n",
       "  <thead>\n",
       "    <tr style=\"text-align: right;\">\n",
       "      <th></th>\n",
       "      <th>Terminal Stock Price (S(T))</th>\n",
       "      <th>Option Payoff</th>\n",
       "      <th>Shares Held</th>\n",
       "      <th>Cash Balance</th>\n",
       "      <th>Portfolio Value</th>\n",
       "      <th>Replicating Error</th>\n",
       "    </tr>\n",
       "  </thead>\n",
       "  <tbody>\n",
       "    <tr>\n",
       "      <th>0</th>\n",
       "      <td>106.547195</td>\n",
       "      <td>6.547195</td>\n",
       "      <td>1.0</td>\n",
       "      <td>2.572317</td>\n",
       "      <td>109.119512</td>\n",
       "      <td>102.572316</td>\n",
       "    </tr>\n",
       "    <tr>\n",
       "      <th>1</th>\n",
       "      <td>106.472489</td>\n",
       "      <td>6.472489</td>\n",
       "      <td>1.0</td>\n",
       "      <td>0.000389</td>\n",
       "      <td>106.472876</td>\n",
       "      <td>100.000388</td>\n",
       "    </tr>\n",
       "    <tr>\n",
       "      <th>2</th>\n",
       "      <td>117.193698</td>\n",
       "      <td>17.193698</td>\n",
       "      <td>1.0</td>\n",
       "      <td>0.000000</td>\n",
       "      <td>117.193698</td>\n",
       "      <td>100.000000</td>\n",
       "    </tr>\n",
       "  </tbody>\n",
       "</table>\n",
       "</div>"
      ],
      "text/plain": [
       "   Terminal Stock Price (S(T))  Option Payoff  Shares Held  Cash Balance  \\\n",
       "0                   106.547195       6.547195          1.0      2.572317   \n",
       "1                   106.472489       6.472489          1.0      0.000389   \n",
       "2                   117.193698      17.193698          1.0      0.000000   \n",
       "\n",
       "   Portfolio Value  Replicating Error  \n",
       "0       109.119512         102.572316  \n",
       "1       106.472876         100.000388  \n",
       "2       117.193698         100.000000  "
      ]
     },
     "execution_count": 40,
     "metadata": {},
     "output_type": "execute_result"
    }
   ],
   "source": [
    "df_results.head(3)"
   ]
  },
  {
   "cell_type": "markdown",
   "id": "6af5eda1-d403-47be-855c-790368c7ff83",
   "metadata": {
    "tags": []
   },
   "source": [
    "### (d)"
   ]
  },
  {
   "cell_type": "code",
   "execution_count": 15,
   "id": "ea37c551-e76f-4972-9267-65512aba4c3f",
   "metadata": {
    "tags": []
   },
   "outputs": [
    {
     "data": {
      "image/png": "[encoded data removed]",
      "text/plain": [
       "<Figure size 640x480 with 1 Axes>"
      ]
     },
     "metadata": {},
     "output_type": "display_data"
    }
   ],
   "source": [
    "plt.scatter(\n",
    "    df_results[\"Terminal Stock Price (S(T))\"],\n",
    "    df_results[\"Portfolio Value\"],\n",
    "    color='red',\n",
    "    label=\"Hedge Portfolio Value\",\n",
    "    alpha=0.6\n",
    ")\n",
    "\n",
    "plt.scatter(\n",
    "    df_results[\"Terminal Stock Price (S(T))\"],\n",
    "    df_results[\"Option Payoff\"],\n",
    "    color='blue',\n",
    "    label=\"Required Payoff Value\",\n",
    "    alpha=0.6\n",
    ")\n",
    "\n",
    "plt.title(\"Hedging Results (S(0)=100, K=100, T=1, r=5%, sigma=20%)\", fontsize=16)\n",
    "plt.xlabel(\"Terminal Stock Price (S(T))\", fontsize=14)\n",
    "plt.ylabel(\"Hedging and Payoff Values\", fontsize=14)\n",
    "plt.legend(fontsize=12)\n",
    "plt.grid(alpha=0.3)\n",
    "plt.show()"
   ]
  },
  {
   "cell_type": "code",
   "execution_count": null,
   "id": "7501702d-aa1b-4a02-b995-b4cb79837729",
   "metadata": {},
   "outputs": [],
   "source": []
  }
 ],
 "metadata": {
  "kernelspec": {
   "display_name": "Python 3 (ipykernel)",
   "language": "python",
   "name": "python3"
  },
  "language_info": {
   "codemirror_mode": {
    "name": "ipython",
    "version": 3
   },
   "file_extension": ".py",
   "mimetype": "text/x-python",
   "name": "python",
   "nbconvert_exporter": "python",
   "pygments_lexer": "ipython3",
   "version": "3.11.4"
  }
 },
 "nbformat": 4,
 "nbformat_minor": 5
}
